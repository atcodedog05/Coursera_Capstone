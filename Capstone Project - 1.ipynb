{
 "cells": [
  {
   "cell_type": "markdown",
   "metadata": {},
   "source": [
    "# Capstone Project - 1"
   ]
  },
  {
   "cell_type": "markdown",
   "metadata": {},
   "source": [
    "This Notebook is a Part of Coursera Capstone Project"
   ]
  },
  {
   "cell_type": "code",
   "execution_count": 1,
   "metadata": {},
   "outputs": [
    {
     "ename": "ModuleNotFoundError",
     "evalue": "No module named 'geocoder'",
     "output_type": "error",
     "traceback": [
      "\u001b[0;31m---------------------------------------------------------------------------\u001b[0m",
      "\u001b[0;31mModuleNotFoundError\u001b[0m                       Traceback (most recent call last)",
      "\u001b[0;32m<ipython-input-1-36ee63dd0320>\u001b[0m in \u001b[0;36m<module>\u001b[0;34m\u001b[0m\n\u001b[1;32m      3\u001b[0m \u001b[0;32mimport\u001b[0m \u001b[0mrequests\u001b[0m \u001b[0;31m# Connection Request\u001b[0m\u001b[0;34m\u001b[0m\u001b[0;34m\u001b[0m\u001b[0m\n\u001b[1;32m      4\u001b[0m \u001b[0;34m\u001b[0m\u001b[0m\n\u001b[0;32m----> 5\u001b[0;31m \u001b[0;32mimport\u001b[0m \u001b[0mgeocoder\u001b[0m \u001b[0;31m# import geocoder\u001b[0m\u001b[0;34m\u001b[0m\u001b[0;34m\u001b[0m\u001b[0m\n\u001b[0m\u001b[1;32m      6\u001b[0m \u001b[0;34m\u001b[0m\u001b[0m\n\u001b[1;32m      7\u001b[0m \u001b[0;32mfrom\u001b[0m \u001b[0mbs4\u001b[0m \u001b[0;32mimport\u001b[0m \u001b[0mBeautifulSoup\u001b[0m \u001b[0;31m# Scraping\u001b[0m\u001b[0;34m\u001b[0m\u001b[0;34m\u001b[0m\u001b[0m\n",
      "\u001b[0;31mModuleNotFoundError\u001b[0m: No module named 'geocoder'"
     ]
    }
   ],
   "source": [
    "import pandas as pd\n",
    "import numpy as np\n",
    "import requests # Connection Request\n",
    "\n",
    "import geocoder # import geocoder\n",
    "\n",
    "from bs4 import BeautifulSoup # Scraping\n",
    "\n",
    "\n",
    "source = requests.get('https://en.wikipedia.org/wiki/List_of_postal_codes_of_Canada:_M').text\n",
    "\n",
    "soup = BeautifulSoup(source, 'html5lib')\n",
    "\n",
    "postal_codes_dict = {} # initialize an empty dictionary to save the data in\n",
    "for table_cell in soup.find_all('td'):\n",
    "    try:\n",
    "        postal_code = table_cell.p.b.text # get the postal code\n",
    "        postal_code_investigate = table_cell.span.text\n",
    "        neighborhoods_data = table_cell.span.text # get the rest of the data in the cell\n",
    "        borough = neighborhoods_data.split('(')[0] # get the borough in the cell\n",
    "        \n",
    "        # if the cell is not assigned then ignore it\n",
    "        if neighborhoods_data == 'Not assigned':\n",
    "            neighborhoods = []\n",
    "        # else process the data and add it to the dictionary\n",
    "        else:\n",
    "            postal_codes_dict[postal_code] = {}\n",
    "            \n",
    "            try:\n",
    "                neighborhoods = neighborhoods_data.split('(')[1]\n",
    "            \n",
    "                # remove parantheses from neighborhoods string\n",
    "                neighborhoods = neighborhoods.replace('(', ' ')\n",
    "                neighborhoods = neighborhoods.replace(')', ' ')\n",
    "\n",
    "                neighborhoods_names = neighborhoods.split('/')\n",
    "                neighborhoods_clean = ', '.join([name.strip() for name in neighborhoods_names])\n",
    "            except:\n",
    "                borough = borough.strip('\\n')\n",
    "                neighborhoods_clean = borough\n",
    " \n",
    "            # add borough and neighborhood to dictionary\n",
    "            postal_codes_dict[postal_code]['borough'] = borough\n",
    "            postal_codes_dict[postal_code]['neighborhoods'] = neighborhoods_clean\n",
    "    except:\n",
    "        pass"
   ]
  },
  {
   "cell_type": "code",
   "execution_count": null,
   "metadata": {},
   "outputs": [],
   "source": [
    "# create an empty dataframe\n",
    "columns = ['PostalCode', 'Borough', 'Neighborhood']\n",
    "toronto_data = pd.DataFrame(columns=columns)\n",
    "toronto_data\n",
    "\n",
    "# populate dataframe with data from dictionary\n",
    "for ind, postal_code in enumerate(postal_codes_dict):\n",
    "    borough = postal_codes_dict[postal_code]['borough']\n",
    "    neighborhood = postal_codes_dict[postal_code]['neighborhoods']\n",
    "    toronto_data = toronto_data.append({\"PostalCode\": postal_code, \n",
    "                                        \"Borough\": borough, \n",
    "                                        \"Neighborhood\": neighborhood},\n",
    "                                        ignore_index=True)\n",
    "\n",
    "# print number of rows of dataframe\n",
    "toronto_data.shape[0]"
   ]
  },
  {
   "cell_type": "code",
   "execution_count": null,
   "metadata": {},
   "outputs": [],
   "source": [
    "# initialize your variable to None\n",
    "lat_lng_coords = None\n",
    "\n",
    "# loop until you get the coordinates\n",
    "while(lat_lng_coords is None):\n",
    "  g = geocoder.google('{}, Toronto, Ontario'.format(postal_code))\n",
    "  lat_lng_coords = g.latlng\n",
    "\n",
    "latitude = lat_lng_coords[0]\n",
    "longitude = lat_lng_coords[1]"
   ]
  }
 ],
 "metadata": {
  "kernelspec": {
   "display_name": "Python 3",
   "language": "python",
   "name": "python3"
  },
  "language_info": {
   "codemirror_mode": {
    "name": "ipython",
    "version": 3
   },
   "file_extension": ".py",
   "mimetype": "text/x-python",
   "name": "python",
   "nbconvert_exporter": "python",
   "pygments_lexer": "ipython3",
   "version": "3.6.8"
  }
 },
 "nbformat": 4,
 "nbformat_minor": 2
}
